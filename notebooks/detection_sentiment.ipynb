{
 "cells": [
  {
   "cell_type": "markdown",
   "id": "6a5afec7",
   "metadata": {},
   "source": [
    "### Importando modulos"
   ]
  },
  {
   "cell_type": "code",
   "execution_count": 1,
   "id": "a3e45ef8",
   "metadata": {},
   "outputs": [
    {
     "name": "stderr",
     "output_type": "stream",
     "text": [
      "2025-09-26 23:02:59.158625: I tensorflow/core/util/port.cc:113] oneDNN custom operations are on. You may see slightly different numerical results due to floating-point round-off errors from different computation orders. To turn them off, set the environment variable `TF_ENABLE_ONEDNN_OPTS=0`.\n",
      "2025-09-26 23:02:59.169397: E external/local_xla/xla/stream_executor/cuda/cuda_fft.cc:479] Unable to register cuFFT factory: Attempting to register factory for plugin cuFFT when one has already been registered\n",
      "2025-09-26 23:02:59.186387: E external/local_xla/xla/stream_executor/cuda/cuda_dnn.cc:10575] Unable to register cuDNN factory: Attempting to register factory for plugin cuDNN when one has already been registered\n",
      "2025-09-26 23:02:59.186424: E external/local_xla/xla/stream_executor/cuda/cuda_blas.cc:1442] Unable to register cuBLAS factory: Attempting to register factory for plugin cuBLAS when one has already been registered\n",
      "2025-09-26 23:02:59.197792: I tensorflow/core/platform/cpu_feature_guard.cc:210] This TensorFlow binary is optimized to use available CPU instructions in performance-critical operations.\n",
      "To enable the following instructions: AVX2 AVX512F AVX512_VNNI FMA, in other operations, rebuild TensorFlow with the appropriate compiler flags.\n",
      "2025-09-26 23:03:02.634025: W tensorflow/compiler/tf2tensorrt/utils/py_utils.cc:38] TF-TRT Warning: Could not find TensorRT\n"
     ]
    }
   ],
   "source": [
    "import matplotlib.pyplot as plt \n",
    "import seaborn as sns \n",
    "import pandas as pd \n",
    "import numpy as np \n",
    "import joblib \n",
    "import spacy\n",
    "import os \n",
    "import re\n",
    "\n",
    "from keras.callbacks import EarlyStopping\n",
    "from tensorflow.keras.preprocessing.text import Tokenizer\n",
    "from tensorflow.keras.preprocessing.sequence import pad_sequences\n",
    "from tensorflow.keras.utils import to_categorical\n",
    "\n",
    "from sklearn.model_selection import train_test_split\n",
    "\n",
    "from sklearn.preprocessing import LabelEncoder\n",
    "\n",
    "from tensorflow.keras.models import Sequential\n",
    "from tensorflow.keras.layers import Embedding, LSTM, Dense, Dropout, Bidirectional\n",
    "\n",
    "\n",
    "from sklearn.metrics import classification_report , confusion_matrix , ConfusionMatrixDisplay\n",
    "\n",
    "# Filtrar warnings \n",
    "import warnings\n",
    "warnings.filterwarnings(\"ignore\")\n",
    "os.environ[\"TF_CPP_MIN_LOG_LEVEL\"] = \"3\""
   ]
  },
  {
   "cell_type": "markdown",
   "id": "54547814",
   "metadata": {},
   "source": [
    "### Carregando dados"
   ]
  },
  {
   "cell_type": "code",
   "execution_count": 2,
   "id": "5e265477",
   "metadata": {},
   "outputs": [],
   "source": [
    "df_train = pd.read_csv(\"twitter_training.csv\",sep=\",\")\n",
    "df_val = pd.read_csv(\"twitter_validation.csv\",sep=\",\")"
   ]
  },
  {
   "cell_type": "code",
   "execution_count": 3,
   "id": "4aeaf62b",
   "metadata": {},
   "outputs": [
    {
     "name": "stdout",
     "output_type": "stream",
     "text": [
      "<class 'pandas.core.frame.DataFrame'>\n",
      "RangeIndex: 74681 entries, 0 to 74680\n",
      "Data columns (total 4 columns):\n",
      " #   Column                                                 Non-Null Count  Dtype \n",
      "---  ------                                                 --------------  ----- \n",
      " 0   2401                                                   74681 non-null  int64 \n",
      " 1   Borderlands                                            74681 non-null  object\n",
      " 2   Positive                                               74681 non-null  object\n",
      " 3   im getting on borderlands and i will murder you all ,  73995 non-null  object\n",
      "dtypes: int64(1), object(3)\n",
      "memory usage: 2.3+ MB\n",
      "<class 'pandas.core.frame.DataFrame'>\n",
      "RangeIndex: 999 entries, 0 to 998\n",
      "Data columns (total 4 columns):\n",
      " #   Column                                                                                                                                                                                                                                              Non-Null Count  Dtype \n",
      "---  ------                                                                                                                                                                                                                                              --------------  ----- \n",
      " 0   3364                                                                                                                                                                                                                                                999 non-null    int64 \n",
      " 1   Facebook                                                                                                                                                                                                                                            999 non-null    object\n",
      " 2   Irrelevant                                                                                                                                                                                                                                          999 non-null    object\n",
      " 3   I mentioned on Facebook that I was struggling for motivation to go for a run the other day, which has been translated by Tom’s great auntie as ‘Hayley can’t get out of bed’ and told to his grandma, who now thinks I’m a lazy, terrible person 🤣  999 non-null    object\n",
      "dtypes: int64(1), object(3)\n",
      "memory usage: 31.3+ KB\n"
     ]
    },
    {
     "data": {
      "text/plain": [
       "(None, None)"
      ]
     },
     "execution_count": 3,
     "metadata": {},
     "output_type": "execute_result"
    }
   ],
   "source": [
    "df_train.info() , df_val.info()"
   ]
  },
  {
   "cell_type": "code",
   "execution_count": 4,
   "id": "3c45a9e6",
   "metadata": {},
   "outputs": [],
   "source": [
    "df_train = df_train.drop(columns=[\"2401\",\"Borderlands\"])\n",
    "df_val = df_val.drop(columns=['3364','Facebook'])\n",
    "df_train.rename(\n",
    "    columns={\n",
    "        'Positive': 'label',\n",
    "        'im getting on borderlands and i will murder you all ,' : 'text'\n",
    "    }, \n",
    "    inplace=True\n",
    ")\n",
    "df_val.rename(\n",
    "    columns={\n",
    "        'Irrelevant': 'label',\n",
    "        'I mentioned on Facebook that I was struggling for motivation to go for a run the other day, which has been translated by Tom’s great auntie as ‘Hayley can’t get out of bed’ and told to his grandma, who now thinks I’m a lazy, terrible person 🤣' : 'text'\n",
    "    }, \n",
    "    inplace=True\n",
    ")"
   ]
  },
  {
   "cell_type": "code",
   "execution_count": 5,
   "id": "9e36c8d2",
   "metadata": {},
   "outputs": [
    {
     "data": {
      "text/plain": [
       "(label\n",
       " Neutral       285\n",
       " Positive      277\n",
       " Negative      266\n",
       " Irrelevant    171\n",
       " Name: count, dtype: int64,\n",
       " label\n",
       " Negative      22542\n",
       " Positive      20831\n",
       " Neutral       18318\n",
       " Irrelevant    12990\n",
       " Name: count, dtype: int64)"
      ]
     },
     "execution_count": 5,
     "metadata": {},
     "output_type": "execute_result"
    }
   ],
   "source": [
    "df_val['label'].value_counts() , df_train['label'].value_counts()"
   ]
  },
  {
   "cell_type": "code",
   "execution_count": 6,
   "id": "e6e76549",
   "metadata": {},
   "outputs": [
    {
     "name": "stdout",
     "output_type": "stream",
     "text": [
      "Train: 67212, Validation: 999, Test: 7469\n"
     ]
    }
   ],
   "source": [
    "df_train, df_test = train_test_split(df_train, test_size=0.1, random_state=42, stratify=df_train['label'])\n",
    "print(f\"Train: {len(df_train)}, Validation: {len(df_val)}, Test: {len(df_test)}\")\n"
   ]
  },
  {
   "cell_type": "markdown",
   "id": "b4ee205e",
   "metadata": {},
   "source": [
    "### Pré-processar dados"
   ]
  },
  {
   "cell_type": "code",
   "execution_count": 7,
   "id": "7dfb7e78",
   "metadata": {},
   "outputs": [],
   "source": [
    "#!python -m spacy download en_core_web_md -q"
   ]
  },
  {
   "cell_type": "code",
   "execution_count": 8,
   "id": "6fb62505",
   "metadata": {},
   "outputs": [],
   "source": [
    "nlp = spacy.load('en_core_web_md')\n",
    "def processing_text(text: str) -> str:\n",
    "    text = re.sub(r'@\\w+', '', text)\n",
    "    text = re.sub(r'http\\S+|www.\\S+', '', text)\n",
    "    doc = nlp(text)\n",
    "    tokens = [token.lemma_.lower().strip() for token in doc if token.text.strip()]\n",
    "    \n",
    "    return ' '.join(tokens)"
   ]
  },
  {
   "cell_type": "code",
   "execution_count": 9,
   "id": "aa6e5bf3",
   "metadata": {},
   "outputs": [],
   "source": [
    "df_train['text_processed'] = df_train['text'].astype(str).apply(processing_text)\n",
    "df_val['text_processed'] = df_val['text'].astype(str).apply(processing_text)\n",
    "df_test['text_processed'] = df_test['text'].astype(str).apply(processing_text)"
   ]
  },
  {
   "cell_type": "code",
   "execution_count": 10,
   "id": "1161cc03",
   "metadata": {},
   "outputs": [
    {
     "data": {
      "application/vnd.microsoft.datawrangler.viewer.v0+json": {
       "columns": [
        {
         "name": "index",
         "rawType": "int64",
         "type": "integer"
        },
        {
         "name": "label",
         "rawType": "object",
         "type": "string"
        },
        {
         "name": "text",
         "rawType": "object",
         "type": "string"
        },
        {
         "name": "text_processed",
         "rawType": "object",
         "type": "string"
        }
       ],
       "ref": "2f06f3b6-2773-4911-aa6f-923c0ec4fce8",
       "rows": [
        [
         "37007",
         "Neutral",
         "Check out this great career opportunity! Principal Engineer (Microsoft Azure) in ( ",
         "check out this great career opportunity ! principal engineer ( microsoft azure ) in ("
        ],
        [
         "60274",
         "Negative",
         "<unk> Facebook losing the love battle? flip.it/P0TDfH",
         "< unk > facebook lose the love battle ? flip.it/p0tdfh"
        ],
        [
         "63",
         "Neutral",
         ".. [",
         ".. ["
        ],
        [
         "23391",
         "Positive",
         "Dear Joining my Google Doodles in thanking packaging, shipping, and delivery of workers. You're all truly essential!",
         "dear join my google doodles in thank packaging , shipping , and delivery of worker . you be all truly essential !"
        ],
        [
         "26236",
         "Positive",
         "think last time ive been truly happy was as the assassins size 3 trailer dropped",
         "think last time i ve be truly happy be as the assassin size 3 trailer drop"
        ]
       ],
       "shape": {
        "columns": 3,
        "rows": 5
       }
      },
      "text/html": [
       "<div>\n",
       "<style scoped>\n",
       "    .dataframe tbody tr th:only-of-type {\n",
       "        vertical-align: middle;\n",
       "    }\n",
       "\n",
       "    .dataframe tbody tr th {\n",
       "        vertical-align: top;\n",
       "    }\n",
       "\n",
       "    .dataframe thead th {\n",
       "        text-align: right;\n",
       "    }\n",
       "</style>\n",
       "<table border=\"1\" class=\"dataframe\">\n",
       "  <thead>\n",
       "    <tr style=\"text-align: right;\">\n",
       "      <th></th>\n",
       "      <th>label</th>\n",
       "      <th>text</th>\n",
       "      <th>text_processed</th>\n",
       "    </tr>\n",
       "  </thead>\n",
       "  <tbody>\n",
       "    <tr>\n",
       "      <th>37007</th>\n",
       "      <td>Neutral</td>\n",
       "      <td>Check out this great career opportunity! Princ...</td>\n",
       "      <td>check out this great career opportunity ! prin...</td>\n",
       "    </tr>\n",
       "    <tr>\n",
       "      <th>60274</th>\n",
       "      <td>Negative</td>\n",
       "      <td>&lt;unk&gt; Facebook losing the love battle? flip.it...</td>\n",
       "      <td>&lt; unk &gt; facebook lose the love battle ? flip.i...</td>\n",
       "    </tr>\n",
       "    <tr>\n",
       "      <th>63</th>\n",
       "      <td>Neutral</td>\n",
       "      <td>.. [</td>\n",
       "      <td>.. [</td>\n",
       "    </tr>\n",
       "    <tr>\n",
       "      <th>23391</th>\n",
       "      <td>Positive</td>\n",
       "      <td>Dear Joining my Google Doodles in thanking pac...</td>\n",
       "      <td>dear join my google doodles in thank packaging...</td>\n",
       "    </tr>\n",
       "    <tr>\n",
       "      <th>26236</th>\n",
       "      <td>Positive</td>\n",
       "      <td>think last time ive been truly happy was as th...</td>\n",
       "      <td>think last time i ve be truly happy be as the ...</td>\n",
       "    </tr>\n",
       "  </tbody>\n",
       "</table>\n",
       "</div>"
      ],
      "text/plain": [
       "          label                                               text  \\\n",
       "37007   Neutral  Check out this great career opportunity! Princ...   \n",
       "60274  Negative  <unk> Facebook losing the love battle? flip.it...   \n",
       "63      Neutral                                               .. [   \n",
       "23391  Positive  Dear Joining my Google Doodles in thanking pac...   \n",
       "26236  Positive  think last time ive been truly happy was as th...   \n",
       "\n",
       "                                          text_processed  \n",
       "37007  check out this great career opportunity ! prin...  \n",
       "60274  < unk > facebook lose the love battle ? flip.i...  \n",
       "63                                                  .. [  \n",
       "23391  dear join my google doodles in thank packaging...  \n",
       "26236  think last time i ve be truly happy be as the ...  "
      ]
     },
     "execution_count": 10,
     "metadata": {},
     "output_type": "execute_result"
    }
   ],
   "source": [
    "df_train.head()"
   ]
  },
  {
   "cell_type": "code",
   "execution_count": 11,
   "id": "7095d22f",
   "metadata": {},
   "outputs": [],
   "source": [
    "max_words = 10000  \n",
    "max_len = 100   "
   ]
  },
  {
   "cell_type": "code",
   "execution_count": 12,
   "id": "8f97c5f3",
   "metadata": {},
   "outputs": [],
   "source": [
    "tokenizer = Tokenizer(num_words=max_words, oov_token=\"<OOV>\")\n",
    "tokenizer.fit_on_texts(df_train['text_processed'])\n",
    "\n",
    "X_train_seq = tokenizer.texts_to_sequences(df_train['text_processed'])\n",
    "X_val_seq = tokenizer.texts_to_sequences(df_val['text_processed'])\n",
    "X_test_seq = tokenizer.texts_to_sequences(df_test['text_processed'])\n",
    "\n",
    "X_train_pad = pad_sequences(X_train_seq, maxlen=max_len, padding='post')\n",
    "X_val_pad = pad_sequences(X_val_seq, maxlen=max_len, padding='post')\n",
    "X_test_pad = pad_sequences(X_test_seq, maxlen=max_len, padding='post')"
   ]
  },
  {
   "cell_type": "code",
   "execution_count": 13,
   "id": "7eb3f21d",
   "metadata": {},
   "outputs": [],
   "source": [
    "le = LabelEncoder()\n",
    "y_train_le=le.fit_transform(df_train['label'])\n",
    "y_val_le=le.transform(df_val['label'])\n",
    "y_test_le=le.transform(df_test['label'])\n",
    "y_train_enc = to_categorical(y_train_le)\n",
    "y_val_enc = to_categorical(y_val_le)\n",
    "y_test_enc = to_categorical(y_test_le)"
   ]
  },
  {
   "cell_type": "markdown",
   "id": "ff130aa7",
   "metadata": {},
   "source": [
    "## Construindo modelo"
   ]
  },
  {
   "cell_type": "code",
   "execution_count": 14,
   "id": "723ed6c4",
   "metadata": {},
   "outputs": [
    {
     "name": "stderr",
     "output_type": "stream",
     "text": [
      "2025-09-26 23:10:02.033856: I external/local_xla/xla/stream_executor/cuda/cuda_executor.cc:998] successful NUMA node read from SysFS had negative value (-1), but there must be at least one NUMA node, so returning NUMA node zero. See more at https://github.com/torvalds/linux/blob/v6.0/Documentation/ABI/testing/sysfs-bus-pci#L344-L355\n",
      "2025-09-26 23:10:02.092515: W tensorflow/core/common_runtime/gpu/gpu_device.cc:2251] Cannot dlopen some GPU libraries. Please make sure the missing libraries mentioned above are installed properly if you would like to use GPU. Follow the guide at https://www.tensorflow.org/install/gpu for how to download and setup the required libraries for your platform.\n",
      "Skipping registering GPU devices...\n"
     ]
    }
   ],
   "source": [
    "vocab_size = max_words\n",
    "embedding_dim = 100\n",
    "\n",
    "model = Sequential([\n",
    "    Embedding(input_dim=vocab_size, output_dim=embedding_dim, input_length=max_len),\n",
    "    Bidirectional(LSTM(64)),\n",
    "    Dropout(0.3),\n",
    "    Dense(32, activation='relu'),\n",
    "    Dense(4, activation='softmax')  \n",
    "])\n",
    "model.compile(loss='categorical_crossentropy', optimizer='adam', metrics=['accuracy'])"
   ]
  },
  {
   "cell_type": "code",
   "execution_count": 15,
   "id": "1985f7ef",
   "metadata": {},
   "outputs": [
    {
     "name": "stdout",
     "output_type": "stream",
     "text": [
      "Epoch 1/20\n",
      "\u001b[1m1051/1051\u001b[0m \u001b[32m━━━━━━━━━━━━━━━━━━━━\u001b[0m\u001b[37m\u001b[0m \u001b[1m48s\u001b[0m 42ms/step - accuracy: 0.6294 - loss: 0.9148 - val_accuracy: 0.8388 - val_loss: 0.4586\n",
      "Epoch 2/20\n",
      "\u001b[1m1051/1051\u001b[0m \u001b[32m━━━━━━━━━━━━━━━━━━━━\u001b[0m\u001b[37m\u001b[0m \u001b[1m45s\u001b[0m 43ms/step - accuracy: 0.7938 - loss: 0.5471 - val_accuracy: 0.8959 - val_loss: 0.3327\n",
      "Epoch 3/20\n",
      "\u001b[1m1051/1051\u001b[0m \u001b[32m━━━━━━━━━━━━━━━━━━━━\u001b[0m\u001b[37m\u001b[0m \u001b[1m34s\u001b[0m 32ms/step - accuracy: 0.8425 - loss: 0.4125 - val_accuracy: 0.9259 - val_loss: 0.2476\n",
      "Epoch 4/20\n",
      "\u001b[1m1051/1051\u001b[0m \u001b[32m━━━━━━━━━━━━━━━━━━━━\u001b[0m\u001b[37m\u001b[0m \u001b[1m42s\u001b[0m 40ms/step - accuracy: 0.8699 - loss: 0.3403 - val_accuracy: 0.9339 - val_loss: 0.2306\n",
      "Epoch 5/20\n",
      "\u001b[1m1051/1051\u001b[0m \u001b[32m━━━━━━━━━━━━━━━━━━━━\u001b[0m\u001b[37m\u001b[0m \u001b[1m51s\u001b[0m 48ms/step - accuracy: 0.8884 - loss: 0.2910 - val_accuracy: 0.9389 - val_loss: 0.2310\n",
      "Epoch 6/20\n",
      "\u001b[1m1051/1051\u001b[0m \u001b[32m━━━━━━━━━━━━━━━━━━━━\u001b[0m\u001b[37m\u001b[0m \u001b[1m61s\u001b[0m 58ms/step - accuracy: 0.9010 - loss: 0.2565 - val_accuracy: 0.9429 - val_loss: 0.2097\n",
      "Epoch 7/20\n",
      "\u001b[1m1051/1051\u001b[0m \u001b[32m━━━━━━━━━━━━━━━━━━━━\u001b[0m\u001b[37m\u001b[0m \u001b[1m61s\u001b[0m 58ms/step - accuracy: 0.9103 - loss: 0.2303 - val_accuracy: 0.9550 - val_loss: 0.1852\n",
      "Epoch 8/20\n",
      "\u001b[1m1051/1051\u001b[0m \u001b[32m━━━━━━━━━━━━━━━━━━━━\u001b[0m\u001b[37m\u001b[0m \u001b[1m64s\u001b[0m 61ms/step - accuracy: 0.9189 - loss: 0.2071 - val_accuracy: 0.9449 - val_loss: 0.2162\n",
      "Epoch 9/20\n",
      "\u001b[1m1051/1051\u001b[0m \u001b[32m━━━━━━━━━━━━━━━━━━━━\u001b[0m\u001b[37m\u001b[0m \u001b[1m59s\u001b[0m 56ms/step - accuracy: 0.9251 - loss: 0.1898 - val_accuracy: 0.9499 - val_loss: 0.2102\n",
      "Epoch 10/20\n",
      "\u001b[1m1051/1051\u001b[0m \u001b[32m━━━━━━━━━━━━━━━━━━━━\u001b[0m\u001b[37m\u001b[0m \u001b[1m58s\u001b[0m 56ms/step - accuracy: 0.9301 - loss: 0.1758 - val_accuracy: 0.9499 - val_loss: 0.2341\n"
     ]
    }
   ],
   "source": [
    "early_stop = EarlyStopping(monitor='val_loss', patience=3, restore_best_weights=True)\n",
    "\n",
    "history = model.fit(\n",
    "    X_train_pad, y_train_enc,\n",
    "    validation_data=(X_val_pad, y_val_enc),\n",
    "    epochs=20,\n",
    "    batch_size=64,\n",
    "    callbacks=[early_stop]\n",
    ")"
   ]
  },
  {
   "cell_type": "markdown",
   "id": "d194338e",
   "metadata": {},
   "source": [
    "### Avaliando"
   ]
  },
  {
   "cell_type": "code",
   "execution_count": 16,
   "id": "ce6e48e8",
   "metadata": {},
   "outputs": [
    {
     "data": {
      "image/png": "[encoded data removed]",
      "text/plain": [
       "<Figure size 640x480 with 1 Axes>"
      ]
     },
     "metadata": {},
     "output_type": "display_data"
    }
   ],
   "source": [
    "loss , val_loss = history.history['loss'] , history.history['val_loss'] \n",
    "plt.plot(loss,label='loss')\n",
    "plt.plot(val_loss,label='val_loss')\n",
    "plt.legend()\n",
    "plt.show()"
   ]
  },
  {
   "cell_type": "code",
   "execution_count": 17,
   "id": "42b72566",
   "metadata": {},
   "outputs": [
    {
     "name": "stdout",
     "output_type": "stream",
     "text": [
      "\u001b[1m234/234\u001b[0m \u001b[32m━━━━━━━━━━━━━━━━━━━━\u001b[0m\u001b[37m\u001b[0m \u001b[1m4s\u001b[0m 13ms/step\n"
     ]
    }
   ],
   "source": [
    "pred = model.predict(X_test_pad)\n",
    "pred_labels = np.argmax(pred, axis=1)"
   ]
  },
  {
   "cell_type": "code",
   "execution_count": 19,
   "id": "a6fa73f3",
   "metadata": {},
   "outputs": [
    {
     "name": "stdout",
     "output_type": "stream",
     "text": [
      "              precision    recall  f1-score   support\n",
      "\n",
      "           0       0.86      0.79      0.82      1299\n",
      "           1       0.86      0.87      0.86      2255\n",
      "           2       0.82      0.86      0.84      1832\n",
      "           3       0.85      0.84      0.84      2083\n",
      "\n",
      "    accuracy                           0.84      7469\n",
      "   macro avg       0.84      0.84      0.84      7469\n",
      "weighted avg       0.84      0.84      0.84      7469\n",
      "\n"
     ]
    }
   ],
   "source": [
    "y_test_labels = np.argmax(y_test_enc, axis=1)\n",
    "print(classification_report(y_test_labels, pred_labels))"
   ]
  },
  {
   "cell_type": "code",
   "execution_count": 20,
   "id": "ca9ba76a",
   "metadata": {},
   "outputs": [
    {
     "data": {
      "image/png": "[encoded data removed]",
      "text/plain": [
       "<Figure size 640x480 with 2 Axes>"
      ]
     },
     "metadata": {},
     "output_type": "display_data"
    }
   ],
   "source": [
    "cm = confusion_matrix(y_test_labels, pred_labels)\n",
    "disp = ConfusionMatrixDisplay(confusion_matrix=cm)\n",
    "disp.plot(cmap=\"Blues\", values_format=\"d\")\n",
    "plt.title(\"Confusion Matrix\")\n",
    "plt.show()"
   ]
  },
  {
   "cell_type": "code",
   "execution_count": 21,
   "id": "5a10e567",
   "metadata": {},
   "outputs": [
    {
     "name": "stderr",
     "output_type": "stream",
     "text": [
      "WARNING:absl:You are saving your model as an HDF5 file via `model.save()` or `keras.saving.save_model(model)`. This file format is considered legacy. We recommend using instead the native Keras format, e.g. `model.save('my_model.keras')` or `keras.saving.save_model(model, 'my_model.keras')`. \n"
     ]
    }
   ],
   "source": [
    "joblib.dump(tokenizer, \"tokenizer.joblib\")\n",
    "model.save(\"best_model.h5\")"
   ]
  }
 ],
 "metadata": {
  "kernelspec": {
   "display_name": ".venv (3.12.3)",
   "language": "python",
   "name": "python3"
  },
  "language_info": {
   "codemirror_mode": {
    "name": "ipython",
    "version": 3
   },
   "file_extension": ".py",
   "mimetype": "text/x-python",
   "name": "python",
   "nbconvert_exporter": "python",
   "pygments_lexer": "ipython3",
   "version": "3.12.3"
  }
 },
 "nbformat": 4,
 "nbformat_minor": 5
}
